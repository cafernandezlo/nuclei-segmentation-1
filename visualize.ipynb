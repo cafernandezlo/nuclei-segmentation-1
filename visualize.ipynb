{
 "cells": [
  {
   "cell_type": "code",
   "execution_count": 1,
   "metadata": {},
   "outputs": [],
   "source": [
    "import torch\n",
    "import torch.nn as nn\n",
    "import torch.nn.functional as F"
   ]
  },
  {
   "cell_type": "code",
   "execution_count": 2,
   "metadata": {},
   "outputs": [],
   "source": [
    "import sys"
   ]
  },
  {
   "cell_type": "code",
   "execution_count": 3,
   "metadata": {},
   "outputs": [
    {
     "name": "stdout",
     "output_type": "stream",
     "text": [
      "['C:\\\\Users\\\\Shyam\\\\Anaconda3\\\\envs\\\\unet\\\\python36.zip', 'C:\\\\Users\\\\Shyam\\\\Anaconda3\\\\envs\\\\unet\\\\DLLs', 'C:\\\\Users\\\\Shyam\\\\Anaconda3\\\\envs\\\\unet\\\\lib', 'C:\\\\Users\\\\Shyam\\\\Anaconda3\\\\envs\\\\unet', '', 'C:\\\\Users\\\\Shyam\\\\Anaconda3\\\\envs\\\\unet\\\\lib\\\\site-packages', 'C:\\\\Users\\\\Shyam\\\\Anaconda3\\\\envs\\\\unet\\\\lib\\\\site-packages\\\\IPython\\\\extensions', 'C:\\\\Users\\\\Shyam\\\\.ipython']\n"
     ]
    }
   ],
   "source": [
    "print(sys.path)"
   ]
  },
  {
   "cell_type": "code",
   "execution_count": 4,
   "metadata": {},
   "outputs": [],
   "source": [
    "import config as cfg"
   ]
  },
  {
   "cell_type": "code",
   "execution_count": 12,
   "metadata": {},
   "outputs": [
    {
     "name": "stdout",
     "output_type": "stream",
     "text": [
      "Epoch 1/2\n",
      "Mem Used: {} 126209536\n",
      "Mem Cached: {} 142606336\n"
     ]
    },
    {
     "name": "stderr",
     "output_type": "stream",
     "text": [
      "Traceback (most recent call last):\n",
      "  File \"main.py\", line 48, in <module>\n",
      "    train(cfg.model)\n",
      "  File \"main.py\", line 23, in train\n",
      "    prediction = model(sample['image'])\n",
      "  File \"C:\\Users\\Shyam\\Anaconda3\\envs\\unet\\lib\\site-packages\\torch\\nn\\modules\\module.py\", line 493, in __call__\n",
      "    result = self.forward(*input, **kwargs)\n",
      "  File \"E:\\project_russel\\unet\\models\\UNet.py\", line 106, in forward\n",
      "    inp = self.input(x)\n",
      "  File \"C:\\Users\\Shyam\\Anaconda3\\envs\\unet\\lib\\site-packages\\torch\\nn\\modules\\module.py\", line 493, in __call__\n",
      "    result = self.forward(*input, **kwargs)\n",
      "  File \"E:\\project_russel\\unet\\models\\UNet.py\", line 44, in forward\n",
      "    x = self.encode(x)\n",
      "  File \"C:\\Users\\Shyam\\Anaconda3\\envs\\unet\\lib\\site-packages\\torch\\nn\\modules\\module.py\", line 493, in __call__\n",
      "    result = self.forward(*input, **kwargs)\n",
      "  File \"C:\\Users\\Shyam\\Anaconda3\\envs\\unet\\lib\\site-packages\\torch\\nn\\modules\\container.py\", line 92, in forward\n",
      "    input = module(input)\n",
      "  File \"C:\\Users\\Shyam\\Anaconda3\\envs\\unet\\lib\\site-packages\\torch\\nn\\modules\\module.py\", line 493, in __call__\n",
      "    result = self.forward(*input, **kwargs)\n",
      "  File \"C:\\Users\\Shyam\\Anaconda3\\envs\\unet\\lib\\site-packages\\torch\\nn\\modules\\conv.py\", line 338, in forward\n",
      "    self.padding, self.dilation, self.groups)\n",
      "RuntimeError: CUDA out of memory. Tried to allocate 1.20 GiB (GPU 0; 4.00 GiB total capacity; 2.65 GiB already allocated; 363.19 MiB free; 18.45 MiB cached)\n"
     ]
    }
   ],
   "source": [
    "!python main.py --phase train"
   ]
  },
  {
   "cell_type": "code",
   "execution_count": 8,
   "metadata": {},
   "outputs": [],
   "source": [
    "torch.cuda.empty_cache()"
   ]
  },
  {
   "cell_type": "code",
   "execution_count": 9,
   "metadata": {},
   "outputs": [
    {
     "data": {
      "text/plain": [
       "device(type='cuda')"
      ]
     },
     "execution_count": 9,
     "metadata": {},
     "output_type": "execute_result"
    }
   ],
   "source": [
    "cfg.device"
   ]
  },
  {
   "cell_type": "code",
   "execution_count": 10,
   "metadata": {},
   "outputs": [
    {
     "data": {
      "text/plain": [
       "<module 'torch.cuda' from 'C:\\\\Users\\\\Shyam\\\\Anaconda3\\\\envs\\\\unet\\\\lib\\\\site-packages\\\\torch\\\\cuda\\\\__init__.py'>"
      ]
     },
     "execution_count": 10,
     "metadata": {},
     "output_type": "execute_result"
    }
   ],
   "source": [
    "torch.cuda"
   ]
  },
  {
   "cell_type": "code",
   "execution_count": null,
   "metadata": {},
   "outputs": [],
   "source": []
  }
 ],
 "metadata": {
  "kernelspec": {
   "display_name": "Python 3",
   "language": "python",
   "name": "python3"
  },
  "language_info": {
   "codemirror_mode": {
    "name": "ipython",
    "version": 3
   },
   "file_extension": ".py",
   "mimetype": "text/x-python",
   "name": "python",
   "nbconvert_exporter": "python",
   "pygments_lexer": "ipython3",
   "version": "3.6.8"
  }
 },
 "nbformat": 4,
 "nbformat_minor": 2
}
